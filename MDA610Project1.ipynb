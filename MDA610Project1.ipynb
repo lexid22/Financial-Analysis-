{
 "cells": [
  {
   "cell_type": "markdown",
   "metadata": {},
   "source": [
    "# Project 1. Financial Analysis with Python"
   ]
  },
  {
   "cell_type": "markdown",
   "metadata": {},
   "source": [
    "In financial analysis, it is a common practice to estimate or test claims on stocks' real mean return based on historical data called a sample. In this project, you will conduct statistical inference on the mean return of a stock of your choice. Please fill in your selection on [a Google sheet](https://docs.google.com/spreadsheets/d/15diyZL9XzbveSDpqZWtE01fMF5JJJ9AZrmbcvoVVRG8/edit?usp=sharing). Avoid repeating existing selections.\n",
    "\n",
    "This project consists of three parts. In Part 1, you will retrieve the stock and the S&P 500 Index's 3-year historical data, compute their daily log returns, and visualize the returns' distributions. You will also use the historical data to compute the coefficient of correlation between the daily log returns of the stock and the S&P 500 Index, and then estimate the stock's Beta (a measure of a stock's volatility) under the assumption that the S&P 500 Index represents the market.     \n",
    "\n",
    "In Part 2, you will use the historical data as a sample to build the 80 percent and 95 percent confidence intervals for the stock's (population) mean daily log return, respectively. Based on the confidence interval estimates, can you conclude that the (population) mean daily log return is positive?\n",
    "\n",
    "In Part 3, you will use the historical data to test the claim that the stock generates a higher (or a lower) mean daily log return than the S&P 500 Index at the significant levels of 5% and 10%, respectively. What conclusions can be drawn? \n",
    "\n",
    "In both Part 2 and Part 3, the normal distribution can be applied to approximate the t-distribution. "
   ]
  },
  {
   "cell_type": "code",
   "execution_count": 1,
   "metadata": {},
   "outputs": [],
   "source": [
    "import lxml\n",
    "import pandas as pd\n",
    "from datetime import datetime\n",
    "import pandas_datareader.data as web \n",
    "import numpy as np\n",
    "from scipy.stats import norm\n",
    "from scipy.stats import t"
   ]
  },
  {
   "cell_type": "code",
   "execution_count": 2,
   "metadata": {},
   "outputs": [
    {
     "data": {
      "text/html": [
       "<div>\n",
       "<style scoped>\n",
       "    .dataframe tbody tr th:only-of-type {\n",
       "        vertical-align: middle;\n",
       "    }\n",
       "\n",
       "    .dataframe tbody tr th {\n",
       "        vertical-align: top;\n",
       "    }\n",
       "\n",
       "    .dataframe thead th {\n",
       "        text-align: right;\n",
       "    }\n",
       "</style>\n",
       "<table border=\"1\" class=\"dataframe\">\n",
       "  <thead>\n",
       "    <tr style=\"text-align: right;\">\n",
       "      <th></th>\n",
       "      <th>High</th>\n",
       "      <th>Low</th>\n",
       "      <th>Open</th>\n",
       "      <th>Close</th>\n",
       "      <th>Volume</th>\n",
       "      <th>Adj Close</th>\n",
       "    </tr>\n",
       "    <tr>\n",
       "      <th>Date</th>\n",
       "      <th></th>\n",
       "      <th></th>\n",
       "      <th></th>\n",
       "      <th></th>\n",
       "      <th></th>\n",
       "      <th></th>\n",
       "    </tr>\n",
       "  </thead>\n",
       "  <tbody>\n",
       "    <tr>\n",
       "      <th>2019-01-02</th>\n",
       "      <td>109.139999</td>\n",
       "      <td>107.730003</td>\n",
       "      <td>108.099998</td>\n",
       "      <td>108.970001</td>\n",
       "      <td>9723500.0</td>\n",
       "      <td>107.654343</td>\n",
       "    </tr>\n",
       "    <tr>\n",
       "      <th>2019-01-03</th>\n",
       "      <td>108.650002</td>\n",
       "      <td>105.940002</td>\n",
       "      <td>108.480003</td>\n",
       "      <td>106.330002</td>\n",
       "      <td>10594700.0</td>\n",
       "      <td>105.046211</td>\n",
       "    </tr>\n",
       "    <tr>\n",
       "      <th>2019-01-04</th>\n",
       "      <td>110.750000</td>\n",
       "      <td>107.250000</td>\n",
       "      <td>107.940002</td>\n",
       "      <td>109.610001</td>\n",
       "      <td>10122800.0</td>\n",
       "      <td>108.286606</td>\n",
       "    </tr>\n",
       "    <tr>\n",
       "      <th>2019-01-07</th>\n",
       "      <td>111.400002</td>\n",
       "      <td>109.300003</td>\n",
       "      <td>109.910004</td>\n",
       "      <td>110.559998</td>\n",
       "      <td>6714700.0</td>\n",
       "      <td>109.225136</td>\n",
       "    </tr>\n",
       "    <tr>\n",
       "      <th>2019-01-08</th>\n",
       "      <td>112.559998</td>\n",
       "      <td>111.169998</td>\n",
       "      <td>111.800003</td>\n",
       "      <td>111.419998</td>\n",
       "      <td>8730700.0</td>\n",
       "      <td>110.074753</td>\n",
       "    </tr>\n",
       "    <tr>\n",
       "      <th>...</th>\n",
       "      <td>...</td>\n",
       "      <td>...</td>\n",
       "      <td>...</td>\n",
       "      <td>...</td>\n",
       "      <td>...</td>\n",
       "      <td>...</td>\n",
       "    </tr>\n",
       "    <tr>\n",
       "      <th>2022-11-25</th>\n",
       "      <td>99.809998</td>\n",
       "      <td>98.080002</td>\n",
       "      <td>98.809998</td>\n",
       "      <td>98.870003</td>\n",
       "      <td>6664300.0</td>\n",
       "      <td>98.870003</td>\n",
       "    </tr>\n",
       "    <tr>\n",
       "      <th>2022-11-28</th>\n",
       "      <td>99.129997</td>\n",
       "      <td>95.430000</td>\n",
       "      <td>98.209999</td>\n",
       "      <td>95.690002</td>\n",
       "      <td>13660000.0</td>\n",
       "      <td>95.690002</td>\n",
       "    </tr>\n",
       "    <tr>\n",
       "      <th>2022-11-29</th>\n",
       "      <td>96.430000</td>\n",
       "      <td>93.919998</td>\n",
       "      <td>96.000000</td>\n",
       "      <td>94.690002</td>\n",
       "      <td>13205300.0</td>\n",
       "      <td>94.690002</td>\n",
       "    </tr>\n",
       "    <tr>\n",
       "      <th>2022-11-30</th>\n",
       "      <td>97.940002</td>\n",
       "      <td>93.870003</td>\n",
       "      <td>94.949997</td>\n",
       "      <td>97.870003</td>\n",
       "      <td>15356100.0</td>\n",
       "      <td>97.870003</td>\n",
       "    </tr>\n",
       "    <tr>\n",
       "      <th>2022-12-01</th>\n",
       "      <td>98.220001</td>\n",
       "      <td>96.599998</td>\n",
       "      <td>97.870003</td>\n",
       "      <td>97.559998</td>\n",
       "      <td>4229787.0</td>\n",
       "      <td>97.559998</td>\n",
       "    </tr>\n",
       "  </tbody>\n",
       "</table>\n",
       "<p>988 rows × 6 columns</p>\n",
       "</div>"
      ],
      "text/plain": [
       "                  High         Low        Open       Close      Volume  \\\n",
       "Date                                                                     \n",
       "2019-01-02  109.139999  107.730003  108.099998  108.970001   9723500.0   \n",
       "2019-01-03  108.650002  105.940002  108.480003  106.330002  10594700.0   \n",
       "2019-01-04  110.750000  107.250000  107.940002  109.610001  10122800.0   \n",
       "2019-01-07  111.400002  109.300003  109.910004  110.559998   6714700.0   \n",
       "2019-01-08  112.559998  111.169998  111.800003  111.419998   8730700.0   \n",
       "...                ...         ...         ...         ...         ...   \n",
       "2022-11-25   99.809998   98.080002   98.809998   98.870003   6664300.0   \n",
       "2022-11-28   99.129997   95.430000   98.209999   95.690002  13660000.0   \n",
       "2022-11-29   96.430000   93.919998   96.000000   94.690002  13205300.0   \n",
       "2022-11-30   97.940002   93.870003   94.949997   97.870003  15356100.0   \n",
       "2022-12-01   98.220001   96.599998   97.870003   97.559998   4229787.0   \n",
       "\n",
       "             Adj Close  \n",
       "Date                    \n",
       "2019-01-02  107.654343  \n",
       "2019-01-03  105.046211  \n",
       "2019-01-04  108.286606  \n",
       "2019-01-07  109.225136  \n",
       "2019-01-08  110.074753  \n",
       "...                ...  \n",
       "2022-11-25   98.870003  \n",
       "2022-11-28   95.690002  \n",
       "2022-11-29   94.690002  \n",
       "2022-11-30   97.870003  \n",
       "2022-12-01   97.559998  \n",
       "\n",
       "[988 rows x 6 columns]"
      ]
     },
     "execution_count": 2,
     "metadata": {},
     "output_type": "execute_result"
    }
   ],
   "source": [
    "dis = web.DataReader('DIS', 'yahoo', start = '2019-01-01', \n",
    "                    end = datetime.today())\n",
    "dis"
   ]
  },
  {
   "cell_type": "code",
   "execution_count": 3,
   "metadata": {},
   "outputs": [
    {
     "data": {
      "text/html": [
       "<div>\n",
       "<style scoped>\n",
       "    .dataframe tbody tr th:only-of-type {\n",
       "        vertical-align: middle;\n",
       "    }\n",
       "\n",
       "    .dataframe tbody tr th {\n",
       "        vertical-align: top;\n",
       "    }\n",
       "\n",
       "    .dataframe thead th {\n",
       "        text-align: right;\n",
       "    }\n",
       "</style>\n",
       "<table border=\"1\" class=\"dataframe\">\n",
       "  <thead>\n",
       "    <tr style=\"text-align: right;\">\n",
       "      <th></th>\n",
       "      <th>High</th>\n",
       "      <th>Low</th>\n",
       "      <th>Open</th>\n",
       "      <th>Close</th>\n",
       "      <th>Volume</th>\n",
       "      <th>Adj Close</th>\n",
       "    </tr>\n",
       "    <tr>\n",
       "      <th>Date</th>\n",
       "      <th></th>\n",
       "      <th></th>\n",
       "      <th></th>\n",
       "      <th></th>\n",
       "      <th></th>\n",
       "      <th></th>\n",
       "    </tr>\n",
       "  </thead>\n",
       "  <tbody>\n",
       "    <tr>\n",
       "      <th>2019-01-02</th>\n",
       "      <td>2519.489990</td>\n",
       "      <td>2467.469971</td>\n",
       "      <td>2476.959961</td>\n",
       "      <td>2510.030029</td>\n",
       "      <td>3733160000</td>\n",
       "      <td>2510.030029</td>\n",
       "    </tr>\n",
       "    <tr>\n",
       "      <th>2019-01-03</th>\n",
       "      <td>2493.139893</td>\n",
       "      <td>2443.959961</td>\n",
       "      <td>2491.919922</td>\n",
       "      <td>2447.889893</td>\n",
       "      <td>3858830000</td>\n",
       "      <td>2447.889893</td>\n",
       "    </tr>\n",
       "    <tr>\n",
       "      <th>2019-01-04</th>\n",
       "      <td>2538.070068</td>\n",
       "      <td>2474.330078</td>\n",
       "      <td>2474.330078</td>\n",
       "      <td>2531.939941</td>\n",
       "      <td>4234140000</td>\n",
       "      <td>2531.939941</td>\n",
       "    </tr>\n",
       "    <tr>\n",
       "      <th>2019-01-07</th>\n",
       "      <td>2566.159912</td>\n",
       "      <td>2524.560059</td>\n",
       "      <td>2535.610107</td>\n",
       "      <td>2549.689941</td>\n",
       "      <td>4133120000</td>\n",
       "      <td>2549.689941</td>\n",
       "    </tr>\n",
       "    <tr>\n",
       "      <th>2019-01-08</th>\n",
       "      <td>2579.820068</td>\n",
       "      <td>2547.560059</td>\n",
       "      <td>2568.110107</td>\n",
       "      <td>2574.409912</td>\n",
       "      <td>4120060000</td>\n",
       "      <td>2574.409912</td>\n",
       "    </tr>\n",
       "    <tr>\n",
       "      <th>...</th>\n",
       "      <td>...</td>\n",
       "      <td>...</td>\n",
       "      <td>...</td>\n",
       "      <td>...</td>\n",
       "      <td>...</td>\n",
       "      <td>...</td>\n",
       "    </tr>\n",
       "    <tr>\n",
       "      <th>2022-11-25</th>\n",
       "      <td>4034.020020</td>\n",
       "      <td>4020.760010</td>\n",
       "      <td>4023.340088</td>\n",
       "      <td>4026.120117</td>\n",
       "      <td>1706460000</td>\n",
       "      <td>4026.120117</td>\n",
       "    </tr>\n",
       "    <tr>\n",
       "      <th>2022-11-28</th>\n",
       "      <td>4012.270020</td>\n",
       "      <td>3955.770020</td>\n",
       "      <td>4005.360107</td>\n",
       "      <td>3963.939941</td>\n",
       "      <td>3615430000</td>\n",
       "      <td>3963.939941</td>\n",
       "    </tr>\n",
       "    <tr>\n",
       "      <th>2022-11-29</th>\n",
       "      <td>3976.770020</td>\n",
       "      <td>3937.649902</td>\n",
       "      <td>3964.189941</td>\n",
       "      <td>3957.629883</td>\n",
       "      <td>3546040000</td>\n",
       "      <td>3957.629883</td>\n",
       "    </tr>\n",
       "    <tr>\n",
       "      <th>2022-11-30</th>\n",
       "      <td>4080.110107</td>\n",
       "      <td>3938.580078</td>\n",
       "      <td>3957.179932</td>\n",
       "      <td>4080.110107</td>\n",
       "      <td>6579360000</td>\n",
       "      <td>4080.110107</td>\n",
       "    </tr>\n",
       "    <tr>\n",
       "      <th>2022-12-01</th>\n",
       "      <td>4100.509766</td>\n",
       "      <td>4050.870117</td>\n",
       "      <td>4087.139893</td>\n",
       "      <td>4072.129883</td>\n",
       "      <td>720771695</td>\n",
       "      <td>4072.129883</td>\n",
       "    </tr>\n",
       "  </tbody>\n",
       "</table>\n",
       "<p>988 rows × 6 columns</p>\n",
       "</div>"
      ],
      "text/plain": [
       "                   High          Low         Open        Close      Volume  \\\n",
       "Date                                                                         \n",
       "2019-01-02  2519.489990  2467.469971  2476.959961  2510.030029  3733160000   \n",
       "2019-01-03  2493.139893  2443.959961  2491.919922  2447.889893  3858830000   \n",
       "2019-01-04  2538.070068  2474.330078  2474.330078  2531.939941  4234140000   \n",
       "2019-01-07  2566.159912  2524.560059  2535.610107  2549.689941  4133120000   \n",
       "2019-01-08  2579.820068  2547.560059  2568.110107  2574.409912  4120060000   \n",
       "...                 ...          ...          ...          ...         ...   \n",
       "2022-11-25  4034.020020  4020.760010  4023.340088  4026.120117  1706460000   \n",
       "2022-11-28  4012.270020  3955.770020  4005.360107  3963.939941  3615430000   \n",
       "2022-11-29  3976.770020  3937.649902  3964.189941  3957.629883  3546040000   \n",
       "2022-11-30  4080.110107  3938.580078  3957.179932  4080.110107  6579360000   \n",
       "2022-12-01  4100.509766  4050.870117  4087.139893  4072.129883   720771695   \n",
       "\n",
       "              Adj Close  \n",
       "Date                     \n",
       "2019-01-02  2510.030029  \n",
       "2019-01-03  2447.889893  \n",
       "2019-01-04  2531.939941  \n",
       "2019-01-07  2549.689941  \n",
       "2019-01-08  2574.409912  \n",
       "...                 ...  \n",
       "2022-11-25  4026.120117  \n",
       "2022-11-28  3963.939941  \n",
       "2022-11-29  3957.629883  \n",
       "2022-11-30  4080.110107  \n",
       "2022-12-01  4072.129883  \n",
       "\n",
       "[988 rows x 6 columns]"
      ]
     },
     "execution_count": 3,
     "metadata": {},
     "output_type": "execute_result"
    }
   ],
   "source": [
    "sp = web.DataReader('^GSPC', 'yahoo', start = '2019-01-01', \n",
    "                    end = datetime.today())\n",
    "sp"
   ]
  },
  {
   "cell_type": "code",
   "execution_count": 4,
   "metadata": {},
   "outputs": [
    {
     "data": {
      "text/html": [
       "<div>\n",
       "<style scoped>\n",
       "    .dataframe tbody tr th:only-of-type {\n",
       "        vertical-align: middle;\n",
       "    }\n",
       "\n",
       "    .dataframe tbody tr th {\n",
       "        vertical-align: top;\n",
       "    }\n",
       "\n",
       "    .dataframe thead th {\n",
       "        text-align: right;\n",
       "    }\n",
       "</style>\n",
       "<table border=\"1\" class=\"dataframe\">\n",
       "  <thead>\n",
       "    <tr style=\"text-align: right;\">\n",
       "      <th></th>\n",
       "      <th>High</th>\n",
       "      <th>Low</th>\n",
       "      <th>Open</th>\n",
       "      <th>Close</th>\n",
       "      <th>Volume</th>\n",
       "      <th>Adj Close</th>\n",
       "      <th>LogR</th>\n",
       "    </tr>\n",
       "    <tr>\n",
       "      <th>Date</th>\n",
       "      <th></th>\n",
       "      <th></th>\n",
       "      <th></th>\n",
       "      <th></th>\n",
       "      <th></th>\n",
       "      <th></th>\n",
       "      <th></th>\n",
       "    </tr>\n",
       "  </thead>\n",
       "  <tbody>\n",
       "    <tr>\n",
       "      <th>2019-01-02</th>\n",
       "      <td>109.139999</td>\n",
       "      <td>107.730003</td>\n",
       "      <td>108.099998</td>\n",
       "      <td>108.970001</td>\n",
       "      <td>9723500.0</td>\n",
       "      <td>107.654343</td>\n",
       "      <td>-0.024525</td>\n",
       "    </tr>\n",
       "    <tr>\n",
       "      <th>2019-01-03</th>\n",
       "      <td>108.650002</td>\n",
       "      <td>105.940002</td>\n",
       "      <td>108.480003</td>\n",
       "      <td>106.330002</td>\n",
       "      <td>10594700.0</td>\n",
       "      <td>105.046211</td>\n",
       "      <td>0.030381</td>\n",
       "    </tr>\n",
       "    <tr>\n",
       "      <th>2019-01-04</th>\n",
       "      <td>110.750000</td>\n",
       "      <td>107.250000</td>\n",
       "      <td>107.940002</td>\n",
       "      <td>109.610001</td>\n",
       "      <td>10122800.0</td>\n",
       "      <td>108.286606</td>\n",
       "      <td>0.008630</td>\n",
       "    </tr>\n",
       "    <tr>\n",
       "      <th>2019-01-07</th>\n",
       "      <td>111.400002</td>\n",
       "      <td>109.300003</td>\n",
       "      <td>109.910004</td>\n",
       "      <td>110.559998</td>\n",
       "      <td>6714700.0</td>\n",
       "      <td>109.225136</td>\n",
       "      <td>0.007748</td>\n",
       "    </tr>\n",
       "    <tr>\n",
       "      <th>2019-01-08</th>\n",
       "      <td>112.559998</td>\n",
       "      <td>111.169998</td>\n",
       "      <td>111.800003</td>\n",
       "      <td>111.419998</td>\n",
       "      <td>8730700.0</td>\n",
       "      <td>110.074753</td>\n",
       "      <td>0.011156</td>\n",
       "    </tr>\n",
       "  </tbody>\n",
       "</table>\n",
       "</div>"
      ],
      "text/plain": [
       "                  High         Low        Open       Close      Volume  \\\n",
       "Date                                                                     \n",
       "2019-01-02  109.139999  107.730003  108.099998  108.970001   9723500.0   \n",
       "2019-01-03  108.650002  105.940002  108.480003  106.330002  10594700.0   \n",
       "2019-01-04  110.750000  107.250000  107.940002  109.610001  10122800.0   \n",
       "2019-01-07  111.400002  109.300003  109.910004  110.559998   6714700.0   \n",
       "2019-01-08  112.559998  111.169998  111.800003  111.419998   8730700.0   \n",
       "\n",
       "             Adj Close      LogR  \n",
       "Date                              \n",
       "2019-01-02  107.654343 -0.024525  \n",
       "2019-01-03  105.046211  0.030381  \n",
       "2019-01-04  108.286606  0.008630  \n",
       "2019-01-07  109.225136  0.007748  \n",
       "2019-01-08  110.074753  0.011156  "
      ]
     },
     "execution_count": 4,
     "metadata": {},
     "output_type": "execute_result"
    }
   ],
   "source": [
    "dis['LogR'] = np.log(dis['Close'].shift(-1) / dis['Close'])\n",
    "dis.head()"
   ]
  },
  {
   "cell_type": "code",
   "execution_count": 5,
   "metadata": {},
   "outputs": [
    {
     "data": {
      "text/html": [
       "<div>\n",
       "<style scoped>\n",
       "    .dataframe tbody tr th:only-of-type {\n",
       "        vertical-align: middle;\n",
       "    }\n",
       "\n",
       "    .dataframe tbody tr th {\n",
       "        vertical-align: top;\n",
       "    }\n",
       "\n",
       "    .dataframe thead th {\n",
       "        text-align: right;\n",
       "    }\n",
       "</style>\n",
       "<table border=\"1\" class=\"dataframe\">\n",
       "  <thead>\n",
       "    <tr style=\"text-align: right;\">\n",
       "      <th></th>\n",
       "      <th>High</th>\n",
       "      <th>Low</th>\n",
       "      <th>Open</th>\n",
       "      <th>Close</th>\n",
       "      <th>Volume</th>\n",
       "      <th>Adj Close</th>\n",
       "      <th>LogR</th>\n",
       "    </tr>\n",
       "    <tr>\n",
       "      <th>Date</th>\n",
       "      <th></th>\n",
       "      <th></th>\n",
       "      <th></th>\n",
       "      <th></th>\n",
       "      <th></th>\n",
       "      <th></th>\n",
       "      <th></th>\n",
       "    </tr>\n",
       "  </thead>\n",
       "  <tbody>\n",
       "    <tr>\n",
       "      <th>2019-01-02</th>\n",
       "      <td>2519.489990</td>\n",
       "      <td>2467.469971</td>\n",
       "      <td>2476.959961</td>\n",
       "      <td>2510.030029</td>\n",
       "      <td>3733160000</td>\n",
       "      <td>2510.030029</td>\n",
       "      <td>-0.025068</td>\n",
       "    </tr>\n",
       "    <tr>\n",
       "      <th>2019-01-03</th>\n",
       "      <td>2493.139893</td>\n",
       "      <td>2443.959961</td>\n",
       "      <td>2491.919922</td>\n",
       "      <td>2447.889893</td>\n",
       "      <td>3858830000</td>\n",
       "      <td>2447.889893</td>\n",
       "      <td>0.033759</td>\n",
       "    </tr>\n",
       "    <tr>\n",
       "      <th>2019-01-04</th>\n",
       "      <td>2538.070068</td>\n",
       "      <td>2474.330078</td>\n",
       "      <td>2474.330078</td>\n",
       "      <td>2531.939941</td>\n",
       "      <td>4234140000</td>\n",
       "      <td>2531.939941</td>\n",
       "      <td>0.006986</td>\n",
       "    </tr>\n",
       "    <tr>\n",
       "      <th>2019-01-07</th>\n",
       "      <td>2566.159912</td>\n",
       "      <td>2524.560059</td>\n",
       "      <td>2535.610107</td>\n",
       "      <td>2549.689941</td>\n",
       "      <td>4133120000</td>\n",
       "      <td>2549.689941</td>\n",
       "      <td>0.009649</td>\n",
       "    </tr>\n",
       "    <tr>\n",
       "      <th>2019-01-08</th>\n",
       "      <td>2579.820068</td>\n",
       "      <td>2547.560059</td>\n",
       "      <td>2568.110107</td>\n",
       "      <td>2574.409912</td>\n",
       "      <td>4120060000</td>\n",
       "      <td>2574.409912</td>\n",
       "      <td>0.004090</td>\n",
       "    </tr>\n",
       "  </tbody>\n",
       "</table>\n",
       "</div>"
      ],
      "text/plain": [
       "                   High          Low         Open        Close      Volume  \\\n",
       "Date                                                                         \n",
       "2019-01-02  2519.489990  2467.469971  2476.959961  2510.030029  3733160000   \n",
       "2019-01-03  2493.139893  2443.959961  2491.919922  2447.889893  3858830000   \n",
       "2019-01-04  2538.070068  2474.330078  2474.330078  2531.939941  4234140000   \n",
       "2019-01-07  2566.159912  2524.560059  2535.610107  2549.689941  4133120000   \n",
       "2019-01-08  2579.820068  2547.560059  2568.110107  2574.409912  4120060000   \n",
       "\n",
       "              Adj Close      LogR  \n",
       "Date                               \n",
       "2019-01-02  2510.030029 -0.025068  \n",
       "2019-01-03  2447.889893  0.033759  \n",
       "2019-01-04  2531.939941  0.006986  \n",
       "2019-01-07  2549.689941  0.009649  \n",
       "2019-01-08  2574.409912  0.004090  "
      ]
     },
     "execution_count": 5,
     "metadata": {},
     "output_type": "execute_result"
    }
   ],
   "source": [
    "sp['LogR'] = np.log(sp['Close'].shift(-1) / sp['Close'])\n",
    "sp.head()"
   ]
  },
  {
   "cell_type": "code",
   "execution_count": 6,
   "metadata": {},
   "outputs": [
    {
     "data": {
      "text/plain": [
       "<AxesSubplot:>"
      ]
     },
     "execution_count": 6,
     "metadata": {},
     "output_type": "execute_result"
    },
    {
     "data": {
      "image/png": "[encoded data removed]",
      "text/plain": [
       "<Figure size 432x288 with 1 Axes>"
      ]
     },
     "metadata": {
      "needs_background": "light"
     },
     "output_type": "display_data"
    }
   ],
   "source": [
    "dis['LogR'].hist(bins = 20)"
   ]
  },
  {
   "cell_type": "code",
   "execution_count": 7,
   "metadata": {},
   "outputs": [
    {
     "data": {
      "text/plain": [
       "<AxesSubplot:>"
      ]
     },
     "execution_count": 7,
     "metadata": {},
     "output_type": "execute_result"
    },
    {
     "data": {
      "image/png": "[encoded data removed]",
      "text/plain": [
       "<Figure size 432x288 with 1 Axes>"
      ]
     },
     "metadata": {
      "needs_background": "light"
     },
     "output_type": "display_data"
    }
   ],
   "source": [
    "sp['LogR'].hist(bins = 20)"
   ]
  },
  {
   "cell_type": "code",
   "execution_count": 8,
   "metadata": {},
   "outputs": [
    {
     "data": {
      "text/plain": [
       "0.6877502954285428"
      ]
     },
     "execution_count": 8,
     "metadata": {},
     "output_type": "execute_result"
    }
   ],
   "source": [
    "corr = sp['LogR'].corr(dis['LogR'])\n",
    "corr"
   ]
  },
  {
   "cell_type": "code",
   "execution_count": 9,
   "metadata": {},
   "outputs": [],
   "source": [
    "sp_std = sp['LogR'].std()\n",
    "dis_std = dis['LogR'].std()\n",
    "dis_mean = dis['LogR'].mean()\n",
    "sp_mean = sp['LogR'].mean()"
   ]
  },
  {
   "cell_type": "code",
   "execution_count": 10,
   "metadata": {},
   "outputs": [
    {
     "data": {
      "text/plain": [
       "-0.00011206188233833027"
      ]
     },
     "execution_count": 10,
     "metadata": {},
     "output_type": "execute_result"
    }
   ],
   "source": [
    "dis_mean"
   ]
  },
  {
   "cell_type": "code",
   "execution_count": 11,
   "metadata": {},
   "outputs": [
    {
     "data": {
      "text/plain": [
       "1.0407054822513557"
      ]
     },
     "execution_count": 11,
     "metadata": {},
     "output_type": "execute_result"
    }
   ],
   "source": [
    "beta = corr*(dis_std/sp_std)\n",
    "beta"
   ]
  },
  {
   "cell_type": "code",
   "execution_count": 12,
   "metadata": {},
   "outputs": [
    {
     "data": {
      "text/plain": [
       "(-0.001010518637600461, 0.0007863948729238007)"
      ]
     },
     "execution_count": 12,
     "metadata": {},
     "output_type": "execute_result"
    }
   ],
   "source": [
    "#80 confidence level\n",
    "alpha = 0.2\n",
    "n = len(dis)\n",
    "tmul = t.ppf(1 - alpha / 2, n - 1)\n",
    "xbar = dis_mean\n",
    "s = dis_std\n",
    "\n",
    "se = s / np.sqrt(n)\n",
    "\n",
    "lcl = xbar - tmul * se\n",
    "ucl = xbar + tmul * se\n",
    "(lcl,ucl)\n",
    "\n"
   ]
  },
  {
   "cell_type": "code",
   "execution_count": 13,
   "metadata": {},
   "outputs": [
    {
     "data": {
      "text/plain": [
       "(-0.0014868991798257319, 0.0012627754151490712)"
      ]
     },
     "execution_count": 13,
     "metadata": {},
     "output_type": "execute_result"
    }
   ],
   "source": [
    "#95 confidence interval\n",
    "alpha = 0.05\n",
    "n = len(dis)\n",
    "tmul = t.ppf(1 - alpha / 2, n - 1)\n",
    "xbar = dis_mean\n",
    "s = dis_std\n",
    "\n",
    "se = s / np.sqrt(n)\n",
    "\n",
    "lcl = xbar - tmul * se\n",
    "ucl = xbar + tmul * se\n",
    "(lcl,ucl)\n",
    "\n"
   ]
  },
  {
   "cell_type": "markdown",
   "metadata": {},
   "source": [
    "Based on the results of both confidence level tests, we cannot conclude that Disney's mean daily log return is positive because the lower confidence level is negative."
   ]
  },
  {
   "cell_type": "code",
   "execution_count": 17,
   "metadata": {},
   "outputs": [
    {
     "data": {
      "text/plain": [
       "(-1.1834343483318517, 0.11846100269544901)"
      ]
     },
     "execution_count": 17,
     "metadata": {},
     "output_type": "execute_result"
    }
   ],
   "source": [
    "#5% significant level\n",
    "alpha = 0.05\n",
    "diff = dis['LogR'] - sp['LogR']\n",
    "n = len(diff)\n",
    "tmul = t.ppf(1 - alpha / 2, n - 1)\n",
    "xbar = diff.mean()\n",
    "\n",
    "\n",
    "se = diff.std() / np.sqrt(n)\n",
    "tv = xbar / se\n",
    "pv = t.cdf(tv,df = n - 1)\n",
    "\n",
    "(tv,pv)"
   ]
  },
  {
   "cell_type": "markdown",
   "metadata": {},
   "source": [
    "We fail to reject $H_O$, because the p-value is greater than ${\\alpha} = 0.05 $"
   ]
  },
  {
   "cell_type": "code",
   "execution_count": 18,
   "metadata": {},
   "outputs": [
    {
     "data": {
      "text/plain": [
       "(0.9632509764575284, 0.8321712392366207)"
      ]
     },
     "execution_count": 18,
     "metadata": {},
     "output_type": "execute_result"
    }
   ],
   "source": [
    "#10% significant level\n",
    "alpha = 0.1\n",
    "diff = dis['LogR'] - sp['LogR']\n",
    "n = len(sp)\n",
    "tmul = t.ppf(1 - alpha / 2, n - 1)\n",
    "xbar = sp_mean\n",
    "\n",
    "\n",
    "se = diff.std() / np.sqrt(n)\n",
    "tv = xbar / se\n",
    "pv = t.cdf(tv,df = n - 1)\n",
    "\n",
    "(tv,pv)"
   ]
  },
  {
   "cell_type": "markdown",
   "metadata": {},
   "source": [
    "We fail to reject $H_O$, because the p-value is greater than ${\\alpha} = 0.1 $"
   ]
  },
  {
   "cell_type": "code",
   "execution_count": null,
   "metadata": {},
   "outputs": [],
   "source": []
  }
 ],
 "metadata": {
  "kernelspec": {
   "display_name": "Python 3 (ipykernel)",
   "language": "python",
   "name": "python3"
  },
  "language_info": {
   "codemirror_mode": {
    "name": "ipython",
    "version": 3
   },
   "file_extension": ".py",
   "mimetype": "text/x-python",
   "name": "python",
   "nbconvert_exporter": "python",
   "pygments_lexer": "ipython3",
   "version": "3.9.12"
  }
 },
 "nbformat": 4,
 "nbformat_minor": 4
}
